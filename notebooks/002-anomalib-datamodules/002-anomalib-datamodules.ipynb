{
 "cells": [
  {
   "cell_type": "markdown",
   "metadata": {},
   "source": [
    "# Anomalib DataModules\n",
    "This notebook demonstrates the mechanics of anomalib data modules, with a specific focus on benchmarks such as MVTec AD, BTech, and custom datasets via the Folder module. Anomalib data modules are structured as follows: Each data collection implements the Torch Dataset and the PyTorch Lightning DataModule objects.\n",
    "\n",
    "The Torch Dataset inherits `torch.utils.data.Dataset` and implement the `__len__` and `__getitem__` methods. This implementation might therefore be utilized not just for anomalib, but also for other implementations.\n",
    "\n",
    "The DataModule implementation inherits the PyTorch Lightning `DataModule` object. The advantage of this class is that it organizes each step of data from download to creating the Torch dataloader. \n",
    "\n",
    "Overall, a data implementation has the following structure:\n",
    "\n",
    "```\n",
    "anomalib\n",
    "├── __init__.py\n",
    "├── data\n",
    "│   ├── __init__.py\n",
    "│   ├── btech.py\n",
    "│   ├── folder.py\n",
    "│   ├── inference.py\n",
    "└── └── mvtec.py\n",
    "```"
   ]
  },
  {
   "cell_type": "markdown",
   "metadata": {},
   "source": [
    "## MVTec AD Dataset"
   ]
  },
  {
   "cell_type": "code",
   "execution_count": null,
   "metadata": {
    "vscode": {
     "languageId": "plaintext"
    }
   },
   "outputs": [],
   "source": []
  }
 ],
 "metadata": {
  "language_info": {
   "name": "python"
  },
  "orig_nbformat": 4
 },
 "nbformat": 4,
 "nbformat_minor": 2
}
